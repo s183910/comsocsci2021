{
 "cells": [
  {
   "cell_type": "markdown",
   "metadata": {},
   "source": [
    "### Prelude to Week 7: Wrap-up of last Week's Exercise 5"
   ]
  },
  {
   "cell_type": "markdown",
   "metadata": {},
   "source": [
    "Before starting with today's class, here is a quick exercise for you to get feedback on the project ideas you have put together last week. You will work with another group for this one. Remember that, at any time, you can come to me and get advice. "
   ]
  },
  {
   "cell_type": "markdown",
   "metadata": {},
   "source": [
    "> _Exercise: Exchange feedback on Project ideas._\n",
    "> 1. __Team-up__ with another group, and find a time to meet. Here is the list of group pairs that should work together:\n",
    ">      * Group 1 and Group 2\n",
    ">      * Group 3 and Group 4\n",
    ">      * Group 5 and Group 6\n",
    ">      * Group 8 and Group 9 \n",
    "> 2. One group at the time, __present__ your slide from Week 6, Exercise 5 to the other group in less than 5 minutes. Allow some time for questions at the end.\n",
    "> 4. __Write down__ in your notebook (in a few lines): \n",
    ">       * Which topic is the other group going to study? \n",
    ">       * Which questions do they aim at addressing?\n",
    ">       * Which data will they use?\n",
    "> 5. __Discuss__ within your group and write in your notebook: \n",
    ">       * What is the most interesting aspect in the study designed by the other group? \n",
    ">       * Is the data suitable to answer the questions they want to address? Why?\n",
    ">       * Is it feasible to collect the data? If not, why?\n",
    ">       * What are some potential limits of the data they have chosen to use for the study?\n",
    ">       * Can their study questions be answered using the techniques of data visualization, network and text analyses that we have seen in class? \n",
    "> 6. Share the feedback with your paired group! Remember to be caring and constructive :)"
   ]
  },
  {
   "cell_type": "markdown",
   "metadata": {},
   "source": [
    "# Overview of Today's class"
   ]
  },
  {
   "cell_type": "markdown",
   "metadata": {},
   "source": [
    "And now let's move to the main part of the class. The plan for today is to work on Sentiment Analysis. As usual, we will first focus a bit on the theory, and then apply what we have learnt through some exercises. Here is an overview of the programme:\n",
    "> * Part 1: __Introduction to Sentiment Analysis__\n",
    "> * Part 2: __Dictionary-based methods__\n",
    "> * Part 3: __Wordshifts__\n",
    "> * Part 4: __(dictionary & rule)-based methods__"
   ]
  },
  {
   "cell_type": "markdown",
   "metadata": {},
   "source": [
    "# Part 1: Intro to Sentiment Analysis"
   ]
  },
  {
   "cell_type": "markdown",
   "metadata": {},
   "source": [
    "Let's start with a short introduction to sentiment analysis. You will learn what is sentiment analysis, what we use it for, and what are the main methods for sentiment analysis. "
   ]
  },
  {
   "cell_type": "markdown",
   "metadata": {},
   "source": [
    " \n",
    "> **Video lecture**: [Intro to Sentiment Analysis](https://www.youtube.com/watch?v=QXfE0Dxb_0c&ab_channel=LauraAlessandretti)"
   ]
  },
  {
   "cell_type": "code",
   "execution_count": 1,
   "metadata": {
    "scrolled": true
   },
   "outputs": [
    {
     "data": {
      "image/jpeg": "[encoded data removed]",
      "text/html": [
       "\n",
       "        <iframe\n",
       "            width=\"800\"\n",
       "            height=\"450\"\n",
       "            src=\"https://www.youtube.com/embed/QXfE0Dxb_0c\"\n",
       "            frameborder=\"0\"\n",
       "            allowfullscreen\n",
       "        ></iframe>\n",
       "        "
      ],
      "text/plain": [
       "<IPython.lib.display.YouTubeVideo at 0x2111e8d7c50>"
      ]
     },
     "execution_count": 1,
     "metadata": {},
     "output_type": "execute_result"
    }
   ],
   "source": [
    "from IPython.display import YouTubeVideo\n",
    "YouTubeVideo(\"QXfE0Dxb_0c\",width=800, height=450)"
   ]
  },
  {
   "cell_type": "markdown",
   "metadata": {},
   "source": [
    "And now let's continue with some reading. I suggest you to have a look at the paper below, where the authors show how they build the labMT dictionary for sentiment analysis and used it to study Twitter data. There is __no need for you to read it all__. Just read through the abstracts, have a look at the figures, and get a sense for the methodology.\n",
    "> **Reading**: [Temporal Patterns of Happiness and Information in a Global Social Network: Hedonometrics and Twitter](https://journals.plos.org/plosone/article?id=10.1371/journal.pone.0026752)\n",
    "\n",
    "Don't forget to have a look at the interactive [Hedonometer](http://hedonometer.org/), which is built using the method described in the paper."
   ]
  },
  {
   "cell_type": "code",
   "execution_count": 1,
   "metadata": {},
   "outputs": [],
   "source": [
    "\n",
    "import pandas as pd\n",
    "import numpy as np\n",
    "import matplotlib.pyplot as plt\n",
    "import nltk, re, datetime\n",
    "nltk.data.path.append(\"./Data/nltk_data\")"
   ]
  },
  {
   "cell_type": "markdown",
   "metadata": {},
   "source": [
    "> _Exercise 1: Exploring the LabMT dataset_ \n",
    ">    1. Download the labMT dictionary from [here](https://hedonometer.org/words/labMT-en-v2). \n",
    ">    2. Explain in your own words __how it was collected__. You can find the information [in the original paper, section 2.2](https://journals.plos.org/plosone/article?id=10.1371/journal.pone.0026752)\n",
    ">    3. Explore the labMT data. \n",
    "        * What are the top 10 words by happiness score, and the bottom 10? Does this surprise you?\n",
    "        * What are the top 20 controversial words (those for which annotators' ratings disagree the most)? Why do you think they are controversial?\n",
    "        * Plot the histogram showing words sentiment according to the labMT data. Do you notice anything that you find surprising? Does the labMT data support the _\"Pollyanna hypothesis\"_ in psychology? And how? [This article](https://www.pnas.org/content/112/8/2389) is a good starting point to read about the Pollyanna hypothesis.\n",
    ">    4. Using the labMT data, create a function that, given a document (list of tokens), returns the corresponding \"Happiness Score\" (see equation 1 in the article). Words that do not exist in the labMT dataset can be ignored."
   ]
  },
  {
   "cell_type": "code",
   "execution_count": 2,
   "metadata": {},
   "outputs": [
    {
     "ename": "FileNotFoundError",
     "evalue": "[Errno 2] No such file or directory: 'Data/week7/Hedonometer.csv'",
     "output_type": "error",
     "traceback": [
      "\u001b[1;31m---------------------------------------------------------------------------\u001b[0m",
      "\u001b[1;31mFileNotFoundError\u001b[0m                         Traceback (most recent call last)",
      "\u001b[1;32m<ipython-input-2-0957314127fe>\u001b[0m in \u001b[0;36m<module>\u001b[1;34m\u001b[0m\n\u001b[0;32m      1\u001b[0m \u001b[1;31m# explore the labMT data\u001b[0m\u001b[1;33m\u001b[0m\u001b[1;33m\u001b[0m\u001b[1;33m\u001b[0m\u001b[0m\n\u001b[1;32m----> 2\u001b[1;33m \u001b[0mlabMT\u001b[0m \u001b[1;33m=\u001b[0m \u001b[0mpd\u001b[0m\u001b[1;33m.\u001b[0m\u001b[0mread_csv\u001b[0m\u001b[1;33m(\u001b[0m\u001b[1;34m\"Data/week7/Hedonometer.csv\"\u001b[0m\u001b[1;33m)\u001b[0m\u001b[1;33m\u001b[0m\u001b[1;33m\u001b[0m\u001b[0m\n\u001b[0m\u001b[0;32m      3\u001b[0m \u001b[0mdisplay\u001b[0m\u001b[1;33m(\u001b[0m\u001b[0mlabMT\u001b[0m\u001b[1;33m)\u001b[0m\u001b[1;33m\u001b[0m\u001b[1;33m\u001b[0m\u001b[0m\n\u001b[0;32m      4\u001b[0m \u001b[0mprint\u001b[0m\u001b[1;33m(\u001b[0m\u001b[1;34m\"Top 10 words by happines score\"\u001b[0m\u001b[1;33m)\u001b[0m\u001b[1;33m\u001b[0m\u001b[1;33m\u001b[0m\u001b[0m\n\u001b[0;32m      5\u001b[0m \u001b[0mdisplay\u001b[0m\u001b[1;33m(\u001b[0m\u001b[0mlabMT\u001b[0m\u001b[1;33m.\u001b[0m\u001b[0msort_values\u001b[0m\u001b[1;33m(\u001b[0m\u001b[0mby\u001b[0m\u001b[1;33m=\u001b[0m\u001b[1;33m[\u001b[0m\u001b[1;34m'Happiness Score'\u001b[0m\u001b[1;33m]\u001b[0m\u001b[1;33m,\u001b[0m \u001b[0mascending\u001b[0m\u001b[1;33m=\u001b[0m\u001b[1;32mFalse\u001b[0m\u001b[1;33m)\u001b[0m\u001b[1;33m[\u001b[0m\u001b[1;33m:\u001b[0m\u001b[1;36m10\u001b[0m\u001b[1;33m]\u001b[0m\u001b[1;33m)\u001b[0m\u001b[1;33m\u001b[0m\u001b[1;33m\u001b[0m\u001b[0m\n",
      "\u001b[1;32m~\\Anaconda3\\lib\\site-packages\\pandas\\io\\parsers.py\u001b[0m in \u001b[0;36mread_csv\u001b[1;34m(filepath_or_buffer, sep, delimiter, header, names, index_col, usecols, squeeze, prefix, mangle_dupe_cols, dtype, engine, converters, true_values, false_values, skipinitialspace, skiprows, skipfooter, nrows, na_values, keep_default_na, na_filter, verbose, skip_blank_lines, parse_dates, infer_datetime_format, keep_date_col, date_parser, dayfirst, cache_dates, iterator, chunksize, compression, thousands, decimal, lineterminator, quotechar, quoting, doublequote, escapechar, comment, encoding, dialect, error_bad_lines, warn_bad_lines, delim_whitespace, low_memory, memory_map, float_precision)\u001b[0m\n\u001b[0;32m    686\u001b[0m     )\n\u001b[0;32m    687\u001b[0m \u001b[1;33m\u001b[0m\u001b[0m\n\u001b[1;32m--> 688\u001b[1;33m     \u001b[1;32mreturn\u001b[0m \u001b[0m_read\u001b[0m\u001b[1;33m(\u001b[0m\u001b[0mfilepath_or_buffer\u001b[0m\u001b[1;33m,\u001b[0m \u001b[0mkwds\u001b[0m\u001b[1;33m)\u001b[0m\u001b[1;33m\u001b[0m\u001b[1;33m\u001b[0m\u001b[0m\n\u001b[0m\u001b[0;32m    689\u001b[0m \u001b[1;33m\u001b[0m\u001b[0m\n\u001b[0;32m    690\u001b[0m \u001b[1;33m\u001b[0m\u001b[0m\n",
      "\u001b[1;32m~\\Anaconda3\\lib\\site-packages\\pandas\\io\\parsers.py\u001b[0m in \u001b[0;36m_read\u001b[1;34m(filepath_or_buffer, kwds)\u001b[0m\n\u001b[0;32m    452\u001b[0m \u001b[1;33m\u001b[0m\u001b[0m\n\u001b[0;32m    453\u001b[0m     \u001b[1;31m# Create the parser.\u001b[0m\u001b[1;33m\u001b[0m\u001b[1;33m\u001b[0m\u001b[1;33m\u001b[0m\u001b[0m\n\u001b[1;32m--> 454\u001b[1;33m     \u001b[0mparser\u001b[0m \u001b[1;33m=\u001b[0m \u001b[0mTextFileReader\u001b[0m\u001b[1;33m(\u001b[0m\u001b[0mfp_or_buf\u001b[0m\u001b[1;33m,\u001b[0m \u001b[1;33m**\u001b[0m\u001b[0mkwds\u001b[0m\u001b[1;33m)\u001b[0m\u001b[1;33m\u001b[0m\u001b[1;33m\u001b[0m\u001b[0m\n\u001b[0m\u001b[0;32m    455\u001b[0m \u001b[1;33m\u001b[0m\u001b[0m\n\u001b[0;32m    456\u001b[0m     \u001b[1;32mif\u001b[0m \u001b[0mchunksize\u001b[0m \u001b[1;32mor\u001b[0m \u001b[0miterator\u001b[0m\u001b[1;33m:\u001b[0m\u001b[1;33m\u001b[0m\u001b[1;33m\u001b[0m\u001b[0m\n",
      "\u001b[1;32m~\\Anaconda3\\lib\\site-packages\\pandas\\io\\parsers.py\u001b[0m in \u001b[0;36m__init__\u001b[1;34m(self, f, engine, **kwds)\u001b[0m\n\u001b[0;32m    946\u001b[0m             \u001b[0mself\u001b[0m\u001b[1;33m.\u001b[0m\u001b[0moptions\u001b[0m\u001b[1;33m[\u001b[0m\u001b[1;34m\"has_index_names\"\u001b[0m\u001b[1;33m]\u001b[0m \u001b[1;33m=\u001b[0m \u001b[0mkwds\u001b[0m\u001b[1;33m[\u001b[0m\u001b[1;34m\"has_index_names\"\u001b[0m\u001b[1;33m]\u001b[0m\u001b[1;33m\u001b[0m\u001b[1;33m\u001b[0m\u001b[0m\n\u001b[0;32m    947\u001b[0m \u001b[1;33m\u001b[0m\u001b[0m\n\u001b[1;32m--> 948\u001b[1;33m         \u001b[0mself\u001b[0m\u001b[1;33m.\u001b[0m\u001b[0m_make_engine\u001b[0m\u001b[1;33m(\u001b[0m\u001b[0mself\u001b[0m\u001b[1;33m.\u001b[0m\u001b[0mengine\u001b[0m\u001b[1;33m)\u001b[0m\u001b[1;33m\u001b[0m\u001b[1;33m\u001b[0m\u001b[0m\n\u001b[0m\u001b[0;32m    949\u001b[0m \u001b[1;33m\u001b[0m\u001b[0m\n\u001b[0;32m    950\u001b[0m     \u001b[1;32mdef\u001b[0m \u001b[0mclose\u001b[0m\u001b[1;33m(\u001b[0m\u001b[0mself\u001b[0m\u001b[1;33m)\u001b[0m\u001b[1;33m:\u001b[0m\u001b[1;33m\u001b[0m\u001b[1;33m\u001b[0m\u001b[0m\n",
      "\u001b[1;32m~\\Anaconda3\\lib\\site-packages\\pandas\\io\\parsers.py\u001b[0m in \u001b[0;36m_make_engine\u001b[1;34m(self, engine)\u001b[0m\n\u001b[0;32m   1178\u001b[0m     \u001b[1;32mdef\u001b[0m \u001b[0m_make_engine\u001b[0m\u001b[1;33m(\u001b[0m\u001b[0mself\u001b[0m\u001b[1;33m,\u001b[0m \u001b[0mengine\u001b[0m\u001b[1;33m=\u001b[0m\u001b[1;34m\"c\"\u001b[0m\u001b[1;33m)\u001b[0m\u001b[1;33m:\u001b[0m\u001b[1;33m\u001b[0m\u001b[1;33m\u001b[0m\u001b[0m\n\u001b[0;32m   1179\u001b[0m         \u001b[1;32mif\u001b[0m \u001b[0mengine\u001b[0m \u001b[1;33m==\u001b[0m \u001b[1;34m\"c\"\u001b[0m\u001b[1;33m:\u001b[0m\u001b[1;33m\u001b[0m\u001b[1;33m\u001b[0m\u001b[0m\n\u001b[1;32m-> 1180\u001b[1;33m             \u001b[0mself\u001b[0m\u001b[1;33m.\u001b[0m\u001b[0m_engine\u001b[0m \u001b[1;33m=\u001b[0m \u001b[0mCParserWrapper\u001b[0m\u001b[1;33m(\u001b[0m\u001b[0mself\u001b[0m\u001b[1;33m.\u001b[0m\u001b[0mf\u001b[0m\u001b[1;33m,\u001b[0m \u001b[1;33m**\u001b[0m\u001b[0mself\u001b[0m\u001b[1;33m.\u001b[0m\u001b[0moptions\u001b[0m\u001b[1;33m)\u001b[0m\u001b[1;33m\u001b[0m\u001b[1;33m\u001b[0m\u001b[0m\n\u001b[0m\u001b[0;32m   1181\u001b[0m         \u001b[1;32melse\u001b[0m\u001b[1;33m:\u001b[0m\u001b[1;33m\u001b[0m\u001b[1;33m\u001b[0m\u001b[0m\n\u001b[0;32m   1182\u001b[0m             \u001b[1;32mif\u001b[0m \u001b[0mengine\u001b[0m \u001b[1;33m==\u001b[0m \u001b[1;34m\"python\"\u001b[0m\u001b[1;33m:\u001b[0m\u001b[1;33m\u001b[0m\u001b[1;33m\u001b[0m\u001b[0m\n",
      "\u001b[1;32m~\\Anaconda3\\lib\\site-packages\\pandas\\io\\parsers.py\u001b[0m in \u001b[0;36m__init__\u001b[1;34m(self, src, **kwds)\u001b[0m\n\u001b[0;32m   2008\u001b[0m         \u001b[0mkwds\u001b[0m\u001b[1;33m[\u001b[0m\u001b[1;34m\"usecols\"\u001b[0m\u001b[1;33m]\u001b[0m \u001b[1;33m=\u001b[0m \u001b[0mself\u001b[0m\u001b[1;33m.\u001b[0m\u001b[0musecols\u001b[0m\u001b[1;33m\u001b[0m\u001b[1;33m\u001b[0m\u001b[0m\n\u001b[0;32m   2009\u001b[0m \u001b[1;33m\u001b[0m\u001b[0m\n\u001b[1;32m-> 2010\u001b[1;33m         \u001b[0mself\u001b[0m\u001b[1;33m.\u001b[0m\u001b[0m_reader\u001b[0m \u001b[1;33m=\u001b[0m \u001b[0mparsers\u001b[0m\u001b[1;33m.\u001b[0m\u001b[0mTextReader\u001b[0m\u001b[1;33m(\u001b[0m\u001b[0msrc\u001b[0m\u001b[1;33m,\u001b[0m \u001b[1;33m**\u001b[0m\u001b[0mkwds\u001b[0m\u001b[1;33m)\u001b[0m\u001b[1;33m\u001b[0m\u001b[1;33m\u001b[0m\u001b[0m\n\u001b[0m\u001b[0;32m   2011\u001b[0m         \u001b[0mself\u001b[0m\u001b[1;33m.\u001b[0m\u001b[0munnamed_cols\u001b[0m \u001b[1;33m=\u001b[0m \u001b[0mself\u001b[0m\u001b[1;33m.\u001b[0m\u001b[0m_reader\u001b[0m\u001b[1;33m.\u001b[0m\u001b[0munnamed_cols\u001b[0m\u001b[1;33m\u001b[0m\u001b[1;33m\u001b[0m\u001b[0m\n\u001b[0;32m   2012\u001b[0m \u001b[1;33m\u001b[0m\u001b[0m\n",
      "\u001b[1;32mpandas\\_libs\\parsers.pyx\u001b[0m in \u001b[0;36mpandas._libs.parsers.TextReader.__cinit__\u001b[1;34m()\u001b[0m\n",
      "\u001b[1;32mpandas\\_libs\\parsers.pyx\u001b[0m in \u001b[0;36mpandas._libs.parsers.TextReader._setup_parser_source\u001b[1;34m()\u001b[0m\n",
      "\u001b[1;31mFileNotFoundError\u001b[0m: [Errno 2] No such file or directory: 'Data/week7/Hedonometer.csv'"
     ]
    }
   ],
   "source": [
    "# explore the labMT data\n",
    "labMT = pd.read_csv(\"Data/Hedonometer.csv\")\n",
    "display(labMT)\n",
    "print(\"Top 10 words by happines score\")\n",
    "display(labMT.sort_values(by=['Happiness Score'], ascending=False)[:10])\n",
    "print(\"Bottom 10 words by happines score\")\n",
    "display(labMT.sort_values(by=['Happiness Score'])[:10])\n",
    "print(\"Top 20 controversial words\")\n",
    "display(labMT.sort_values(by=['Standard Deviation of Ratings'], ascending=False)[:20])\n",
    "\n",
    "# words sentiment histogram\n",
    "labMT[\"Happiness Score\"].hist(bins = 100)"
   ]
  },
  {
   "cell_type": "markdown",
   "metadata": {},
   "source": [
    "# Part 2:  Dictionary-based methods."
   ]
  },
  {
   "cell_type": "markdown",
   "metadata": {},
   "source": [
    "The goal for this part of the class is to use the labMT data for studying happiness over time on _r/wallstreetbets_, building on dictionary-based methods. We will re-use some of the code from last week. So, make sure you have it at hand."
   ]
  },
  {
   "cell_type": "markdown",
   "metadata": {},
   "source": [
    "> _Exercise 2: Dictionary-based method to study sentiment on r/wallstreetbets_ \n",
    "\n",
    "\n",
    ">    1. Open the _wallstreetbets submissions dataframe_ we used in Week 6 (my version is [here](https://github.com/lalessan/comsocsci2021/blob/master/data/wallstreet_subs.csv.gz)).\n",
    ">    2. Tokenize the _text_ of each submission (use the code you created in Week 6, exercise 3, point 2). Add it in a new column of your dataframe called \"tokens\".\n",
    ">    3. Create one document per day in the dataset, containing all tokens for that day. Plot the length of the document (number of tokens) over time. Are documents long enough for using a dictionary-based method? As a rule-of-thumb  that 10,000 words are enough to score with a sentiment dictionary confidently ([Source here](https://epjdatascience.springeropen.com/articles/10.1140/epjds/s13688-017-0121-9)).\n",
    ">    4. Plot the average daily happiness on r/wallstreetbets using the function you created in step 3 (remember the video lesson in Week 2, for plotting nice time-series).\n",
    ">    5. Compare happiness on _r/wallstreetbets_ to happiness on Twitter using the [hedonometer](http://hedonometer.org/timeseries/en_all/?from=2019-09-16&to=2021-03-15). What is (approximatively) the average value of the two time-series? How do you explain any difference between the two?\n",
    ">    6. Download the daily Close price of the [S&P 500 Index](https://finance.yahoo.com/quote/%5EGSPC/history?p=%5EGSPC) and plot it over time. This index measures the stock performance of 500 large companies listed on stock exchanges in the United States, you can read more about it in the [S&P 500 Wikipedia page](https://en.wikipedia.org/wiki/S%26P_500).\n",
    ">    7. Compare the figures you created in steps 8. and 10. What do you observe? \n",
    ">    8. Discuss the limitations of your analysis. "
   ]
  },
  {
   "cell_type": "code",
   "execution_count": null,
   "metadata": {},
   "outputs": [],
   "source": [
    "# Load packages and data\n",
    "\n",
    "import pandas as pd\n",
    "import tqdm\n",
    "from nltk import word_tokenize\n",
    "from nltk.corpus import stopwords\n",
    "import matplotlib.pyplot as plt\n",
    "import nltk, re, datetime\n",
    "\n",
    "\n",
    "# C:\\Users\\bayka\\OneDrive\\Dokumenter\\comsocsci2021\\files\n",
    "    \n",
    "    \n",
    "    \n",
    "wallstreet_subs = pd.read_csv(\"wallstreet_subs.csv.gz\") # We will be using Lauras data for this one\n",
    "wallstreet_subs[\"text\"] = wallstreet_subs.title+ \" \" +wallstreet_subs.selftext\n",
    "display(wallstreet_subs)"
   ]
  },
  {
   "cell_type": "code",
   "execution_count": 5,
   "metadata": {},
   "outputs": [
    {
     "name": "stderr",
     "output_type": "stream",
     "text": [
      "100%|███████████████████████████████████████████████████████████████████████████| 82242/82242 [02:51<00:00, 478.57it/s]\n"
     ]
    }
   ],
   "source": [
    "# Tokenize the text of each submission\n",
    "\n",
    "\n",
    "StopWords = stopwords.words(\"english\")\n",
    "\n",
    "sub_tokens = []\n",
    "for text in tqdm.tqdm(wallstreet_subs[\"text\"]):\n",
    "    # remove urls\n",
    "    text = [w for w in text.split(\" \") if not re.search(r\"[/ \\\\]\", w)]\n",
    "    #get tokens\n",
    "    tokens = [token.lower() for token in word_tokenize(\" \". join(text)) \n",
    "              if token not in StopWords\n",
    "             and token.isalpha()]\n",
    "    sub_tokens.append(tokens)\n",
    "# Add it in a new column of your dataframe called \"tokens\".    \n",
    "wallstreet_subs[\"tokens\"] = sub_tokens"
   ]
  },
  {
   "cell_type": "code",
   "execution_count": 6,
   "metadata": {},
   "outputs": [
    {
     "data": {
      "text/html": [
       "<div>\n",
       "<style scoped>\n",
       "    .dataframe tbody tr th:only-of-type {\n",
       "        vertical-align: middle;\n",
       "    }\n",
       "\n",
       "    .dataframe tbody tr th {\n",
       "        vertical-align: top;\n",
       "    }\n",
       "\n",
       "    .dataframe thead tr th {\n",
       "        text-align: left;\n",
       "    }\n",
       "\n",
       "    .dataframe thead tr:last-of-type th {\n",
       "        text-align: right;\n",
       "    }\n",
       "</style>\n",
       "<table border=\"1\" class=\"dataframe\">\n",
       "  <thead>\n",
       "    <tr>\n",
       "      <th></th>\n",
       "      <th>created_utc</th>\n",
       "      <th>title</th>\n",
       "      <th>selftext</th>\n",
       "      <th>score</th>\n",
       "      <th>text</th>\n",
       "      <th>tokens</th>\n",
       "    </tr>\n",
       "    <tr>\n",
       "      <th></th>\n",
       "      <th>sum</th>\n",
       "      <th>sum</th>\n",
       "      <th>sum</th>\n",
       "      <th>sum</th>\n",
       "      <th>sum</th>\n",
       "      <th>sum</th>\n",
       "    </tr>\n",
       "    <tr>\n",
       "      <th>created_date</th>\n",
       "      <th></th>\n",
       "      <th></th>\n",
       "      <th></th>\n",
       "      <th></th>\n",
       "      <th></th>\n",
       "      <th></th>\n",
       "    </tr>\n",
       "  </thead>\n",
       "  <tbody>\n",
       "    <tr>\n",
       "      <th>2019-12-31</th>\n",
       "      <td>6311341762</td>\n",
       "      <td>Long LYFT and UBER DDPrice of Wheat DDI bought...</td>\n",
       "      <td>Given our trading tendencies, we’re clearly so...</td>\n",
       "      <td>4</td>\n",
       "      <td>Long LYFT and UBER DD Given our trading tenden...</td>\n",
       "      <td>[long, lyft, uber, dd, given, trading, tendenc...</td>\n",
       "    </tr>\n",
       "    <tr>\n",
       "      <th>2020-01-01</th>\n",
       "      <td>112030204946</td>\n",
       "      <td>What are you guys doing New Year’s Eve?Can som...</td>\n",
       "      <td>I’m sitting home ringing the new year with a d...</td>\n",
       "      <td>71</td>\n",
       "      <td>What are you guys doing New Year’s Eve? I’m si...</td>\n",
       "      <td>[what, guys, new, year, eve, i, sitting, home,...</td>\n",
       "    </tr>\n",
       "    <tr>\n",
       "      <th>2020-01-02</th>\n",
       "      <td>179889118589</td>\n",
       "      <td>Opinions on BABA 2020?no one gunna talk about ...</td>\n",
       "      <td>From what I’ve read, the forecast say potentia...</td>\n",
       "      <td>640</td>\n",
       "      <td>Opinions on BABA 2020? From what I’ve read, th...</td>\n",
       "      <td>[opinions, baba, from, i, read, forecast, say,...</td>\n",
       "    </tr>\n",
       "    <tr>\n",
       "      <th>2020-01-03</th>\n",
       "      <td>149915372547</td>\n",
       "      <td>WWIII Crusader ETFOrangeman vs. SandmanWar go ...</td>\n",
       "      <td>Need some help boys the $BECKY ETF inspired me...</td>\n",
       "      <td>1576</td>\n",
       "      <td>WWIII Crusader ETF Need some help boys the $BE...</td>\n",
       "      <td>[wwiii, crusader, etf, need, help, boys, becky...</td>\n",
       "    </tr>\n",
       "    <tr>\n",
       "      <th>2020-01-04</th>\n",
       "      <td>29984844016</td>\n",
       "      <td>Do you know any broker in Europe that has amer...</td>\n",
       "      <td>Due to some new law from 2018 you can't buy in...</td>\n",
       "      <td>421</td>\n",
       "      <td>Do you know any broker in Europe that has amer...</td>\n",
       "      <td>[do, know, broker, europe, american, etfs, ava...</td>\n",
       "    </tr>\n",
       "    <tr>\n",
       "      <th>...</th>\n",
       "      <td>...</td>\n",
       "      <td>...</td>\n",
       "      <td>...</td>\n",
       "      <td>...</td>\n",
       "      <td>...</td>\n",
       "      <td>...</td>\n",
       "    </tr>\n",
       "    <tr>\n",
       "      <th>2020-12-27</th>\n",
       "      <td>325033794859</td>\n",
       "      <td>BABA??Curiously killed the CatHelp your local ...</td>\n",
       "      <td>Buy the dip while they’re being investigatedWo...</td>\n",
       "      <td>200</td>\n",
       "      <td>BABA?? Buy the dip while they’re being investi...</td>\n",
       "      <td>[baba, buy, dip, investigated, curiously, kill...</td>\n",
       "    </tr>\n",
       "    <tr>\n",
       "      <th>2020-12-28</th>\n",
       "      <td>299302921666</td>\n",
       "      <td>Did I lose everything on BABA?Did I lose every...</td>\n",
       "      <td>So I went all in on Baba calls at a $300 strik...</td>\n",
       "      <td>187</td>\n",
       "      <td>Did I lose everything on BABA? So I went all i...</td>\n",
       "      <td>[did, i, lose, everything, baba, so, i, went, ...</td>\n",
       "    </tr>\n",
       "    <tr>\n",
       "      <th>2020-12-29</th>\n",
       "      <td>408748712966</td>\n",
       "      <td>YUM DD: KFC launches game console with built-i...</td>\n",
       "      <td>[https://www.youtube.com/watch?v=G2xa7vabDkE](...</td>\n",
       "      <td>255</td>\n",
       "      <td>YUM DD: KFC launches game console with built-i...</td>\n",
       "      <td>[yum, dd, kfc, launches, game, console, chicke...</td>\n",
       "    </tr>\n",
       "    <tr>\n",
       "      <th>2020-12-30</th>\n",
       "      <td>251055995693</td>\n",
       "      <td>Popping the Cherryfaithful 2 the stonksWhy I'm...</td>\n",
       "      <td>It's actually been like 2 months since I've bo...</td>\n",
       "      <td>157</td>\n",
       "      <td>Popping the Cherry It's actually been like 2 m...</td>\n",
       "      <td>[popping, cherry, it, actually, like, months, ...</td>\n",
       "    </tr>\n",
       "    <tr>\n",
       "      <th>2020-12-31</th>\n",
       "      <td>374993582656</td>\n",
       "      <td>Start YOLOing2020 PnL YTD ThreadSHOP and NET a...</td>\n",
       "      <td>Hi guys! I'm a noob girl who want to start YOL...</td>\n",
       "      <td>233</td>\n",
       "      <td>Start YOLOing Hi guys! I'm a noob girl who wan...</td>\n",
       "      <td>[start, yoloing, hi, guys, i, noob, girl, want...</td>\n",
       "    </tr>\n",
       "  </tbody>\n",
       "</table>\n",
       "<p>367 rows × 6 columns</p>\n",
       "</div>"
      ],
      "text/plain": [
       "               created_utc                                              title  \\\n",
       "                       sum                                                sum   \n",
       "created_date                                                                    \n",
       "2019-12-31      6311341762  Long LYFT and UBER DDPrice of Wheat DDI bought...   \n",
       "2020-01-01    112030204946  What are you guys doing New Year’s Eve?Can som...   \n",
       "2020-01-02    179889118589  Opinions on BABA 2020?no one gunna talk about ...   \n",
       "2020-01-03    149915372547  WWIII Crusader ETFOrangeman vs. SandmanWar go ...   \n",
       "2020-01-04     29984844016  Do you know any broker in Europe that has amer...   \n",
       "...                    ...                                                ...   \n",
       "2020-12-27    325033794859  BABA??Curiously killed the CatHelp your local ...   \n",
       "2020-12-28    299302921666  Did I lose everything on BABA?Did I lose every...   \n",
       "2020-12-29    408748712966  YUM DD: KFC launches game console with built-i...   \n",
       "2020-12-30    251055995693  Popping the Cherryfaithful 2 the stonksWhy I'm...   \n",
       "2020-12-31    374993582656  Start YOLOing2020 PnL YTD ThreadSHOP and NET a...   \n",
       "\n",
       "                                                       selftext score  \\\n",
       "                                                            sum   sum   \n",
       "created_date                                                            \n",
       "2019-12-31    Given our trading tendencies, we’re clearly so...     4   \n",
       "2020-01-01    I’m sitting home ringing the new year with a d...    71   \n",
       "2020-01-02    From what I’ve read, the forecast say potentia...   640   \n",
       "2020-01-03    Need some help boys the $BECKY ETF inspired me...  1576   \n",
       "2020-01-04    Due to some new law from 2018 you can't buy in...   421   \n",
       "...                                                         ...   ...   \n",
       "2020-12-27    Buy the dip while they’re being investigatedWo...   200   \n",
       "2020-12-28    So I went all in on Baba calls at a $300 strik...   187   \n",
       "2020-12-29    [https://www.youtube.com/watch?v=G2xa7vabDkE](...   255   \n",
       "2020-12-30    It's actually been like 2 months since I've bo...   157   \n",
       "2020-12-31    Hi guys! I'm a noob girl who want to start YOL...   233   \n",
       "\n",
       "                                                           text  \\\n",
       "                                                            sum   \n",
       "created_date                                                      \n",
       "2019-12-31    Long LYFT and UBER DD Given our trading tenden...   \n",
       "2020-01-01    What are you guys doing New Year’s Eve? I’m si...   \n",
       "2020-01-02    Opinions on BABA 2020? From what I’ve read, th...   \n",
       "2020-01-03    WWIII Crusader ETF Need some help boys the $BE...   \n",
       "2020-01-04    Do you know any broker in Europe that has amer...   \n",
       "...                                                         ...   \n",
       "2020-12-27    BABA?? Buy the dip while they’re being investi...   \n",
       "2020-12-28    Did I lose everything on BABA? So I went all i...   \n",
       "2020-12-29    YUM DD: KFC launches game console with built-i...   \n",
       "2020-12-30    Popping the Cherry It's actually been like 2 m...   \n",
       "2020-12-31    Start YOLOing Hi guys! I'm a noob girl who wan...   \n",
       "\n",
       "                                                         tokens  \n",
       "                                                            sum  \n",
       "created_date                                                     \n",
       "2019-12-31    [long, lyft, uber, dd, given, trading, tendenc...  \n",
       "2020-01-01    [what, guys, new, year, eve, i, sitting, home,...  \n",
       "2020-01-02    [opinions, baba, from, i, read, forecast, say,...  \n",
       "2020-01-03    [wwiii, crusader, etf, need, help, boys, becky...  \n",
       "2020-01-04    [do, know, broker, europe, american, etfs, ava...  \n",
       "...                                                         ...  \n",
       "2020-12-27    [baba, buy, dip, investigated, curiously, kill...  \n",
       "2020-12-28    [did, i, lose, everything, baba, so, i, went, ...  \n",
       "2020-12-29    [yum, dd, kfc, launches, game, console, chicke...  \n",
       "2020-12-30    [popping, cherry, it, actually, like, months, ...  \n",
       "2020-12-31    [start, yoloing, hi, guys, i, noob, girl, want...  \n",
       "\n",
       "[367 rows x 6 columns]"
      ]
     },
     "metadata": {},
     "output_type": "display_data"
    }
   ],
   "source": [
    "# One document for each day \n",
    "wallstreet_subs[\"created_date\"] = pd.to_datetime(wallstreet_subs.created_utc, unit='s').dt.date\n",
    "subs_per_day = wallstreet_subs.groupby([\"created_date\"]).aggregate([\"sum\"])\n",
    "display(subs_per_day)"
   ]
  },
  {
   "cell_type": "code",
   "execution_count": null,
   "metadata": {},
   "outputs": [],
   "source": [
    "# The length of documents for each day is plotted\n",
    "fig, ax = plt.subplots(figsize = (14,6))\n",
    "ax.plot(subs_per_day.index, [len(i) for i in subs_per_day.tokens[\"sum\"]],color = 'cornflowerblue')\n",
    "\n",
    "ax.set_xlabel(\"Dates from 2020-01 to 2021-01\", fontsize = 15)\n",
    "ax.set_ylabel(\"Number of tokens\", fontsize = 15)\n",
    "ax.set_title(\"Length of the documents over time\", fontsize = 20)\n",
    "\n",
    "plt.show()"
   ]
  },
  {
   "cell_type": "code",
   "execution_count": null,
   "metadata": {},
   "outputs": [],
   "source": [
    "import numpy as np\n",
    "np.mean([len(i) for i in subs_per_day.tokens[\"sum\"]])\n",
    "\n",
    "\n",
    "# as the the average tokens "
   ]
  },
  {
   "cell_type": "code",
   "execution_count": null,
   "metadata": {},
   "outputs": [],
   "source": [
    "np.mean(len(sub_tokens))"
   ]
  },
  {
   "cell_type": "code",
   "execution_count": null,
   "metadata": {},
   "outputs": [],
   "source": []
  },
  {
   "cell_type": "code",
   "execution_count": null,
   "metadata": {},
   "outputs": [],
   "source": []
  },
  {
   "cell_type": "code",
   "execution_count": null,
   "metadata": {},
   "outputs": [],
   "source": []
  },
  {
   "cell_type": "markdown",
   "metadata": {},
   "source": [
    "# Part 3: Word Shifts"
   ]
  },
  {
   "cell_type": "markdown",
   "metadata": {},
   "source": [
    "Dictionary-based methods give us a way to measure the sentiment polarity for a given document. But which words contribute the most to make a document more sad/happy than another? We will now dig into _'Word Shifts'_, a method for understanding which words contribute to increasing or decreasing polarity."
   ]
  },
  {
   "cell_type": "markdown",
   "metadata": {},
   "source": [
    "Start by looking at the video below, where Peter Dodds, one of the authors of the Hedonometer, shows what are __Words Shift__ and how to use them.\n",
    "> **Video**: [Word Shifts by Peter Dodds](https://www.youtube.com/watch?v=Z0M2k8TQ-t8&ab_channel=PeterSheridanDodds)"
   ]
  },
  {
   "cell_type": "markdown",
   "metadata": {},
   "source": [
    "Now, have a look at the video lecture below, where I show how to plot WordShifts in Python. If you watch it carefullly, you will nail the next exercise ;)\n",
    "> **Video Lecture**: [Word Shifts in Python](https://youtu.be/UIv5Aluo-xI)"
   ]
  },
  {
   "cell_type": "code",
   "execution_count": 1,
   "metadata": {},
   "outputs": [
    {
     "data": {
      "image/jpeg": "[encoded data removed]",
      "text/html": [
       "\n",
       "        <iframe\n",
       "            width=\"800\"\n",
       "            height=\"450\"\n",
       "            src=\"https://www.youtube.com/embed/UIv5Aluo-xI\"\n",
       "            frameborder=\"0\"\n",
       "            allowfullscreen\n",
       "        ></iframe>\n",
       "        "
      ],
      "text/plain": [
       "<IPython.lib.display.YouTubeVideo at 0x7f846379c9a0>"
      ]
     },
     "execution_count": 1,
     "metadata": {},
     "output_type": "execute_result"
    }
   ],
   "source": [
    "from IPython.display import YouTubeVideo\n",
    "YouTubeVideo(\"UIv5Aluo-xI\",width=800, height=450)"
   ]
  },
  {
   "cell_type": "markdown",
   "metadata": {},
   "source": [
    "_Exercise : Creating Word Shifts_\n",
    ">    1. Pick a day of your choice in 2020. We call it $d$. It is more interesting if you pick a day where you expect something relevant to occur (e.g. Christmas, New Year, Corona starting, the market crashes...).\n",
    ">    2. Build two lists $l$ and $l_{ref}$ containing all tokens for submissions posted on r/wallstreebets on day $d$, and in the 7 days preceding day $d$, respectively. \n",
    ">    3. For each token $i$, compute the relative frequency in the two lists $l$ and $l_{ref}$. We call them $p(i,l)$ and $p(i,l_{ref})$, respectively. The relative frequency is computed as the number of times a token occurs over the total length of the document. Store the result in a dictionary.\n",
    ">    4. For each token $i$, compute the difference in relative frequency $\\delta p(i) = p(i,l) - p(i,l_{ref})$. Store the values in a dictionary. Print the top 10 tokens (those with largest relative frequency). Do you notice anything interesting?\n",
    ">    5. Now, for each token, compute the happiness $h(i) = labMT(i) - 5$, using the labMT dictionary. Here, we subtract $5$, so that positive tokens will have a positive value and negative tokens will have a negative value. Then, compute the product $\\delta \\Phi = h(i)\\cdot \\delta p(i)$. Store the results in a dictionary. \n",
    ">    6. Print the top 10 tokens, ordered by the absolute value of $|\\delta \\Phi|$. Explain in your own words the meaning of $\\delta \\Phi$. If that is unclear, have a look at [this page](https://shifterator.readthedocs.io/en/latest/cookbook/weighted_avg_shifts.html).\n",
    ">    7. Now install the [``shifterator``](https://shifterator.readthedocs.io/en/latest/installation.html) Python package. We will use it for plotting Word Shifts. \n",
    ">    8. Use the function ``shifterator.WeightedAvgShift`` to plot the WordShift, showing which words contributed the most to make your day of choice _d_ happier or more sad then days in the preceding 7 days. Comment on the figure. \n",
    ">    9. How do words that you printed in step 6 relate to those shown by the WordShift? "
   ]
  },
  {
   "cell_type": "markdown",
   "metadata": {},
   "source": [
    "# Part 4: (dictionary & rule)-based methods"
   ]
  },
  {
   "cell_type": "markdown",
   "metadata": {},
   "source": [
    "We will now explore another method for sentiment analysis, called [VADER](https://github.com/cjhutto/vaderSentiment), which uses **both** dictionary-based methods and rule-based methods. My introductory lecture above has covered the basic functioning of VADER. If you are interested in finding out more, you can find more material in the [original article](https://ojs.aaai.org/index.php/ICWSM/article/download/14550/14399)."
   ]
  },
  {
   "cell_type": "markdown",
   "metadata": {},
   "source": [
    "> _Exercise 2: Using VADER to investigate polarity in r/wallstreetbets_ \n",
    "\n",
    ">    1. Download the VADER lexicon dictionary from [here](https://raw.githubusercontent.com/cjhutto/vaderSentiment/master/vaderSentiment/vader_lexicon.txt). Read the description of the VADER lexicon in the README file of [VADER Github repo](https://github.com/cjhutto/vaderSentiment). How was the dictionary created? \n",
    ">    2. Explore the VADER lexicon data. \n",
    "        * What are the top 10 words by polarity. And the bottom 10? Does this surprise you?\n",
    "        * Plot the distribution of polarity according to the VADER Lexicon data. What are the differences compared to the labMT data? Is it to be expected?\n",
    ">    3. Install the VADER library using ``pip install vaderSentiment``.\n",
    ">    4. Go through the example sentences in the [vaderSentiment documentation page](https://github.com/cjhutto/vaderSentiment) (Section Code Examples). Compute the _compund_  polarity for each sentence. \n",
    ">    5. Try VADER on your own sentences. Can you find a sentence where VADER gets wrong (the polarity has opposite sign compared to what one would expect)? You can have a look at VADER set of rules [here](https://ojs.aaai.org/index.php/ICWSM/article/download/14550/14399). \n",
    ">    6. Now open the _wallstreetbets submissions dataframe__. Divide the text of each submission into sentences (you can use ``nltk.sent_tokenize``). Apply VADER to each individual sentence. Then compute the average polarity for each submission.\n",
    ">    7. Aggregate by day and compute the average daily compund polarity. Plot the curve over time (Optional: add error-bars using the standard deviation). Does this curve look different to the one you obtained in Part 2. How do you explain it?\n",
    ">    8. What is the advantage of using a rule-based method over the simple dictionary-based approach? What type of analyses could you imagine doing on the Reddit dataset using VADER that you can not do using dictionary approaches?"
   ]
  },
  {
   "cell_type": "code",
   "execution_count": null,
   "metadata": {},
   "outputs": [],
   "source": []
  }
 ],
 "metadata": {
  "anaconda-cloud": {},
  "kernelspec": {
   "display_name": "Python 3",
   "language": "python",
   "name": "python3"
  },
  "language_info": {
   "codemirror_mode": {
    "name": "ipython",
    "version": 3
   },
   "file_extension": ".py",
   "mimetype": "text/x-python",
   "name": "python",
   "nbconvert_exporter": "python",
   "pygments_lexer": "ipython3",
   "version": "3.6.8"
  }
 },
 "nbformat": 4,
 "nbformat_minor": 1
}
